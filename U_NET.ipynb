{
  "nbformat": 4,
  "nbformat_minor": 0,
  "metadata": {
    "colab": {
      "provenance": [],
      "gpuType": "T4"
    },
    "kernelspec": {
      "name": "python3",
      "display_name": "Python 3"
    },
    "language_info": {
      "name": "python"
    },
    "accelerator": "GPU"
  },
  "cells": [
    {
      "cell_type": "code",
      "execution_count": 48,
      "metadata": {
        "id": "JOgcHafOonTQ"
      },
      "outputs": [],
      "source": [
        "import tensorflow as tf\n",
        "from tensorflow.keras import layers\n",
        "import os\n",
        "import numpy as np\n",
        "from tqdm import tqdm\n",
        "import matplotlib.pyplot as plt\n",
        "import cv2\n",
        "import zipfile\n",
        "from skimage.io import imread, imshow\n",
        "from skimage.transform import resize\n",
        "from skimage.morphology import label"
      ]
    },
    {
      "cell_type": "code",
      "source": [
        "np.random.seed(43)"
      ],
      "metadata": {
        "id": "pJ2_zkG7epmy"
      },
      "execution_count": 2,
      "outputs": []
    },
    {
      "cell_type": "code",
      "source": [
        "from google.colab import drive\n",
        "drive.mount('/content/drive',force_remount=True)"
      ],
      "metadata": {
        "colab": {
          "base_uri": "https://localhost:8080/"
        },
        "id": "_VDnwXCvDSXy",
        "outputId": "87415415-4402-4715-c8cf-047b9efbc4c4"
      },
      "execution_count": 3,
      "outputs": [
        {
          "output_type": "stream",
          "name": "stdout",
          "text": [
            "Mounted at /content/drive\n"
          ]
        }
      ]
    },
    {
      "cell_type": "code",
      "source": [
        "UNZIP_PATH =\"/content/drive/MyDrive/data-science-bowl-2018.zip\"\n"
      ],
      "metadata": {
        "id": "ETtd8DNdFDN1"
      },
      "execution_count": 4,
      "outputs": []
    },
    {
      "cell_type": "code",
      "source": [
        "# Unzip data\n",
        "with zipfile.ZipFile(UNZIP_PATH , 'r') as zip_ref:\n",
        "    zip_ref.extractall('./datasciencebowleee')\n",
        "\n",
        "# with zipfile.ZipFile(UNZIP_PATH + 'stage1_test.zip', 'r') as zip_ref:\n",
        "#     zip_ref.extractall('./test')"
      ],
      "metadata": {
        "id": "_OPf7VktHk_E"
      },
      "execution_count": 5,
      "outputs": []
    },
    {
      "cell_type": "code",
      "source": [
        "with zipfile.ZipFile(\"/content/datasciencebowleee/stage1_train.zip\" , 'r') as zip_ref:\n",
        "    zip_ref.extractall('./trainhere')"
      ],
      "metadata": {
        "id": "lA-ibdSLISGw"
      },
      "execution_count": 6,
      "outputs": []
    },
    {
      "cell_type": "code",
      "source": [
        "with zipfile.ZipFile(\"/content/datasciencebowleee/stage1_test.zip\" , 'r') as zip_ref:\n",
        "    zip_ref.extractall('./testhere')"
      ],
      "metadata": {
        "id": "zByXO73KJrL2"
      },
      "execution_count": 7,
      "outputs": []
    },
    {
      "cell_type": "code",
      "source": [
        "train_ids = next(os.walk('./trainhere'))[1]\n",
        "test_ids = next(os.walk('./testhere'))[1]"
      ],
      "metadata": {
        "id": "RqIHt-qoJ-AO"
      },
      "execution_count": 8,
      "outputs": []
    },
    {
      "cell_type": "code",
      "source": [
        "IMAGE_WIDTH=128\n",
        "IMAGE_HEIGHT=128\n",
        "IMAGE_CHANNEL=3"
      ],
      "metadata": {
        "id": "v9oYHBnJpdQY"
      },
      "execution_count": 9,
      "outputs": []
    },
    {
      "cell_type": "code",
      "source": [
        "X_train = np.zeros((len(train_ids), IMAGE_HEIGHT, IMAGE_WIDTH, IMAGE_CHANNEL), dtype=np.uint8)\n",
        "Y_train = np.zeros((len(train_ids), IMAGE_HEIGHT, IMAGE_WIDTH, 1), dtype=bool)"
      ],
      "metadata": {
        "id": "vd9z2HEeKZ_O"
      },
      "execution_count": 10,
      "outputs": []
    },
    {
      "cell_type": "code",
      "source": [
        "def iou_metric(y_true_in, y_pred_in, print_table=False):\n",
        "    labels = label(y_true_in > 0.5)\n",
        "    y_pred = label(y_pred_in > 0.5)\n",
        "\n",
        "    true_objects = len(np.unique(labels))\n",
        "    pred_objects = len(np.unique(y_pred))\n",
        "\n",
        "    intersection = np.histogram2d(labels.flatten(), y_pred.flatten(), bins=(true_objects, pred_objects))[0]\n",
        "\n",
        "    # Compute areas (needed for finding the union between all objects)\n",
        "    area_true = np.histogram(labels, bins = true_objects)[0]\n",
        "    area_pred = np.histogram(y_pred, bins = pred_objects)[0]\n",
        "    area_true = np.expand_dims(area_true, -1)\n",
        "    area_pred = np.expand_dims(area_pred, 0)\n",
        "\n",
        "    # Compute union\n",
        "    union = area_true + area_pred - intersection\n",
        "\n",
        "    # Exclude background from the analysis\n",
        "    intersection = intersection[1:,1:]\n",
        "    union = union[1:,1:]\n",
        "    union[union == 0] = 1e-9\n",
        "\n",
        "    # Compute the intersection over union\n",
        "    iou = intersection / union\n",
        "\n",
        "    # Precision helper function\n",
        "    def precision_at(threshold, iou):\n",
        "        matches = iou > threshold\n",
        "        true_positives = np.sum(matches, axis=1) == 1   # Correct objects\n",
        "        false_positives = np.sum(matches, axis=0) == 0  # Missed objects\n",
        "        false_negatives = np.sum(matches, axis=1) == 0  # Extra objects\n",
        "        tp, fp, fn = np.sum(true_positives), np.sum(false_positives), np.sum(false_negatives)\n",
        "        return tp, fp, fn\n",
        "\n",
        "    # Loop over IoU thresholds\n",
        "    prec = []\n",
        "    if print_table:\n",
        "        print(\"Thresh\\tTP\\tFP\\tFN\\tPrec.\")\n",
        "    for t in np.arange(0.5, 1.0, 0.05):\n",
        "        tp, fp, fn = precision_at(t, iou)\n",
        "        if (tp + fp + fn) > 0:\n",
        "            p = tp / (tp + fp + fn)\n",
        "        else:\n",
        "            p = 0\n",
        "        if print_table:\n",
        "            print(\"{:1.3f}\\t{}\\t{}\\t{}\\t{:1.3f}\".format(t, tp, fp, fn, p))\n",
        "        prec.append(p)\n",
        "\n",
        "    if print_table:\n",
        "        print(\"AP\\t-\\t-\\t-\\t{:1.3f}\".format(np.mean(prec)))\n",
        "    return np.mean(prec)\n",
        "\n",
        "def iou_metric_batch(y_true_in, y_pred_in):\n",
        "    batch_size = y_true_in.shape[0]\n",
        "    metric = []\n",
        "    for batch in range(batch_size):\n",
        "        value = iou_metric(y_true_in[batch], y_pred_in[batch])\n",
        "        metric.append(value)\n",
        "    return np.array(np.mean(metric), dtype=np.float32)\n",
        "\n",
        "def my_iou_metric(label, pred):\n",
        "    metric_value = tf.py_function(iou_metric_batch, [label, pred], tf.float32)\n",
        "    return metric_value"
      ],
      "metadata": {
        "id": "-3EVM-oNo0JN"
      },
      "execution_count": 49,
      "outputs": []
    },
    {
      "cell_type": "code",
      "source": [
        "inputs=layers.Input((IMAGE_WIDTH,IMAGE_HEIGHT,IMAGE_CHANNEL))"
      ],
      "metadata": {
        "id": "maqF_-7epp_t"
      },
      "execution_count": 50,
      "outputs": []
    },
    {
      "cell_type": "code",
      "source": [
        "s=layers.Lambda(lambda x:x/255)(inputs)"
      ],
      "metadata": {
        "id": "MzdzbE5Pvkev"
      },
      "execution_count": 51,
      "outputs": []
    },
    {
      "cell_type": "code",
      "source": [
        "c1=layers.Conv2D(16,(3,3),activation=\"relu\",kernel_initializer=\"he_normal\",padding=\"same\")(s)\n",
        "c1=layers.Dropout(0.1)(c1)\n",
        "c1=layers.Conv2D(16,(3,3),activation=\"relu\",kernel_initializer=\"he_normal\",padding=\"same\")(c1)\n",
        "p1=layers.MaxPooling2D((2,2))(c1)"
      ],
      "metadata": {
        "id": "gmtgvqbrqA3V"
      },
      "execution_count": 52,
      "outputs": []
    },
    {
      "cell_type": "code",
      "source": [
        "c2=layers.Conv2D(32,(3,3),activation=\"relu\",kernel_initializer=\"he_normal\",padding=\"same\")(p1)\n",
        "c2=layers.Dropout(0.1)(c2)\n",
        "c2=layers.Conv2D(32,(3,3),activation=\"relu\",kernel_initializer=\"he_normal\",padding=\"same\")(c2)\n",
        "p2=layers.MaxPooling2D((2,2))(c2)"
      ],
      "metadata": {
        "id": "L6hk0OmZvMBH"
      },
      "execution_count": 53,
      "outputs": []
    },
    {
      "cell_type": "code",
      "source": [
        "c3=layers.Conv2D(64,(3,3),activation=\"relu\",kernel_initializer=\"he_normal\",padding=\"same\")(p2)\n",
        "c3=layers.Dropout(0.1)(c3)\n",
        "c3=layers.Conv2D(64,(3,3),activation=\"relu\",kernel_initializer=\"he_normal\",padding=\"same\")(c3)\n",
        "p3=layers.MaxPooling2D((2,2))(c3)"
      ],
      "metadata": {
        "id": "GElPRUeMwwd3"
      },
      "execution_count": 54,
      "outputs": []
    },
    {
      "cell_type": "code",
      "source": [
        "c4=layers.Conv2D(128,(3,3),activation=\"relu\",kernel_initializer=\"he_normal\",padding=\"same\")(p3)\n",
        "c4=layers.Dropout(0.1)(c4)\n",
        "c4=layers.Conv2D(128,(3,3),activation=\"relu\",kernel_initializer=\"he_normal\",padding=\"same\")(c4)\n",
        "p4=layers.MaxPooling2D((2,2))(c4)"
      ],
      "metadata": {
        "id": "zo_q6b3_w-Uf"
      },
      "execution_count": 55,
      "outputs": []
    },
    {
      "cell_type": "code",
      "source": [
        "c5 = tf.keras.layers.Conv2D(256, (3, 3), activation='relu', kernel_initializer='he_normal', padding='same')(p4)\n",
        "c5 = tf.keras.layers.Dropout(0.3)(c5)\n",
        "c5 = tf.keras.layers.Conv2D(256, (3, 3), activation='relu', kernel_initializer='he_normal', padding='same')(c5)"
      ],
      "metadata": {
        "id": "PU0bRivnxOap"
      },
      "execution_count": 56,
      "outputs": []
    },
    {
      "cell_type": "markdown",
      "source": [
        "###**Expanding path**###"
      ],
      "metadata": {
        "id": "6mC-yab1xxKN"
      }
    },
    {
      "cell_type": "code",
      "source": [
        "u6 = tf.keras.layers.Conv2DTranspose(128, (2, 2), strides=(2, 2), padding='same')(c5)\n",
        "u6 = tf.keras.layers.concatenate([u6, c4])\n",
        "c6 = tf.keras.layers.Conv2D(128, (3, 3), activation='relu', kernel_initializer='he_normal', padding='same')(u6)\n",
        "c6 = tf.keras.layers.Dropout(0.2)(c6)\n",
        "c6 = tf.keras.layers.Conv2D(128, (3, 3), activation='relu', kernel_initializer='he_normal', padding='same')(c6)\n",
        "\n",
        "u7 = tf.keras.layers.Conv2DTranspose(64, (2, 2), strides=(2, 2), padding='same')(c6)\n",
        "u7 = tf.keras.layers.concatenate([u7, c3])\n",
        "c7 = tf.keras.layers.Conv2D(64, (3, 3), activation='relu', kernel_initializer='he_normal', padding='same')(u7)\n",
        "c7 = tf.keras.layers.Dropout(0.2)(c7)\n",
        "c7 = tf.keras.layers.Conv2D(64, (3, 3), activation='relu', kernel_initializer='he_normal', padding='same')(c7)\n",
        "\n",
        "u8 = tf.keras.layers.Conv2DTranspose(32, (2, 2), strides=(2, 2), padding='same')(c7)\n",
        "u8 = tf.keras.layers.concatenate([u8, c2])\n",
        "c8 = tf.keras.layers.Conv2D(32, (3, 3), activation='relu', kernel_initializer='he_normal', padding='same')(u8)\n",
        "c8 = tf.keras.layers.Dropout(0.1)(c8)\n",
        "c8 = tf.keras.layers.Conv2D(32, (3, 3), activation='relu', kernel_initializer='he_normal', padding='same')(c8)\n",
        "\n",
        "u9 = tf.keras.layers.Conv2DTranspose(16, (2, 2), strides=(2, 2), padding='same')(c8)\n",
        "u9 = tf.keras.layers.concatenate([u9, c1], axis=3)\n",
        "c9 = tf.keras.layers.Conv2D(16, (3, 3), activation='relu', kernel_initializer='he_normal', padding='same')(u9)\n",
        "c9 = tf.keras.layers.Dropout(0.1)(c9)\n",
        "c9 = tf.keras.layers.Conv2D(16, (3, 3), activation='relu', kernel_initializer='he_normal', padding='same')(c9)"
      ],
      "metadata": {
        "id": "0thbGUvOx1kT"
      },
      "execution_count": 57,
      "outputs": []
    },
    {
      "cell_type": "code",
      "source": [
        "outputs = tf.keras.layers.Conv2D(1, (1, 1), activation='sigmoid')(c9)\n",
        "\n",
        "model = tf.keras.Model(inputs=[inputs], outputs=[outputs])\n",
        "model.compile(optimizer='adam', loss='binary_crossentropy', metrics=[my_iou_metric])\n",
        "model.summary()"
      ],
      "metadata": {
        "colab": {
          "base_uri": "https://localhost:8080/"
        },
        "id": "XdjPG3qnz9H_",
        "outputId": "98f4d04a-0d76-4091-efb0-9af646804f08"
      },
      "execution_count": 58,
      "outputs": [
        {
          "output_type": "stream",
          "name": "stdout",
          "text": [
            "Model: \"model_3\"\n",
            "__________________________________________________________________________________________________\n",
            " Layer (type)                   Output Shape         Param #     Connected to                     \n",
            "==================================================================================================\n",
            " input_3 (InputLayer)           [(None, 128, 128, 3  0           []                               \n",
            "                                )]                                                                \n",
            "                                                                                                  \n",
            " lambda_2 (Lambda)              (None, 128, 128, 3)  0           ['input_3[0][0]']                \n",
            "                                                                                                  \n",
            " conv2d_39 (Conv2D)             (None, 128, 128, 16  448         ['lambda_2[0][0]']               \n",
            "                                )                                                                 \n",
            "                                                                                                  \n",
            " dropout_18 (Dropout)           (None, 128, 128, 16  0           ['conv2d_39[0][0]']              \n",
            "                                )                                                                 \n",
            "                                                                                                  \n",
            " conv2d_40 (Conv2D)             (None, 128, 128, 16  2320        ['dropout_18[0][0]']             \n",
            "                                )                                                                 \n",
            "                                                                                                  \n",
            " max_pooling2d_8 (MaxPooling2D)  (None, 64, 64, 16)  0           ['conv2d_40[0][0]']              \n",
            "                                                                                                  \n",
            " conv2d_41 (Conv2D)             (None, 64, 64, 32)   4640        ['max_pooling2d_8[0][0]']        \n",
            "                                                                                                  \n",
            " dropout_19 (Dropout)           (None, 64, 64, 32)   0           ['conv2d_41[0][0]']              \n",
            "                                                                                                  \n",
            " conv2d_42 (Conv2D)             (None, 64, 64, 32)   9248        ['dropout_19[0][0]']             \n",
            "                                                                                                  \n",
            " max_pooling2d_9 (MaxPooling2D)  (None, 32, 32, 32)  0           ['conv2d_42[0][0]']              \n",
            "                                                                                                  \n",
            " conv2d_43 (Conv2D)             (None, 32, 32, 64)   18496       ['max_pooling2d_9[0][0]']        \n",
            "                                                                                                  \n",
            " dropout_20 (Dropout)           (None, 32, 32, 64)   0           ['conv2d_43[0][0]']              \n",
            "                                                                                                  \n",
            " conv2d_44 (Conv2D)             (None, 32, 32, 64)   36928       ['dropout_20[0][0]']             \n",
            "                                                                                                  \n",
            " max_pooling2d_10 (MaxPooling2D  (None, 16, 16, 64)  0           ['conv2d_44[0][0]']              \n",
            " )                                                                                                \n",
            "                                                                                                  \n",
            " conv2d_45 (Conv2D)             (None, 16, 16, 128)  73856       ['max_pooling2d_10[0][0]']       \n",
            "                                                                                                  \n",
            " dropout_21 (Dropout)           (None, 16, 16, 128)  0           ['conv2d_45[0][0]']              \n",
            "                                                                                                  \n",
            " conv2d_46 (Conv2D)             (None, 16, 16, 128)  147584      ['dropout_21[0][0]']             \n",
            "                                                                                                  \n",
            " max_pooling2d_11 (MaxPooling2D  (None, 8, 8, 128)   0           ['conv2d_46[0][0]']              \n",
            " )                                                                                                \n",
            "                                                                                                  \n",
            " conv2d_47 (Conv2D)             (None, 8, 8, 256)    295168      ['max_pooling2d_11[0][0]']       \n",
            "                                                                                                  \n",
            " dropout_22 (Dropout)           (None, 8, 8, 256)    0           ['conv2d_47[0][0]']              \n",
            "                                                                                                  \n",
            " conv2d_48 (Conv2D)             (None, 8, 8, 256)    590080      ['dropout_22[0][0]']             \n",
            "                                                                                                  \n",
            " conv2d_transpose_8 (Conv2DTran  (None, 16, 16, 128)  131200     ['conv2d_48[0][0]']              \n",
            " spose)                                                                                           \n",
            "                                                                                                  \n",
            " concatenate_8 (Concatenate)    (None, 16, 16, 256)  0           ['conv2d_transpose_8[0][0]',     \n",
            "                                                                  'conv2d_46[0][0]']              \n",
            "                                                                                                  \n",
            " conv2d_49 (Conv2D)             (None, 16, 16, 128)  295040      ['concatenate_8[0][0]']          \n",
            "                                                                                                  \n",
            " dropout_23 (Dropout)           (None, 16, 16, 128)  0           ['conv2d_49[0][0]']              \n",
            "                                                                                                  \n",
            " conv2d_50 (Conv2D)             (None, 16, 16, 128)  147584      ['dropout_23[0][0]']             \n",
            "                                                                                                  \n",
            " conv2d_transpose_9 (Conv2DTran  (None, 32, 32, 64)  32832       ['conv2d_50[0][0]']              \n",
            " spose)                                                                                           \n",
            "                                                                                                  \n",
            " concatenate_9 (Concatenate)    (None, 32, 32, 128)  0           ['conv2d_transpose_9[0][0]',     \n",
            "                                                                  'conv2d_44[0][0]']              \n",
            "                                                                                                  \n",
            " conv2d_51 (Conv2D)             (None, 32, 32, 64)   73792       ['concatenate_9[0][0]']          \n",
            "                                                                                                  \n",
            " dropout_24 (Dropout)           (None, 32, 32, 64)   0           ['conv2d_51[0][0]']              \n",
            "                                                                                                  \n",
            " conv2d_52 (Conv2D)             (None, 32, 32, 64)   36928       ['dropout_24[0][0]']             \n",
            "                                                                                                  \n",
            " conv2d_transpose_10 (Conv2DTra  (None, 64, 64, 32)  8224        ['conv2d_52[0][0]']              \n",
            " nspose)                                                                                          \n",
            "                                                                                                  \n",
            " concatenate_10 (Concatenate)   (None, 64, 64, 64)   0           ['conv2d_transpose_10[0][0]',    \n",
            "                                                                  'conv2d_42[0][0]']              \n",
            "                                                                                                  \n",
            " conv2d_53 (Conv2D)             (None, 64, 64, 32)   18464       ['concatenate_10[0][0]']         \n",
            "                                                                                                  \n",
            " dropout_25 (Dropout)           (None, 64, 64, 32)   0           ['conv2d_53[0][0]']              \n",
            "                                                                                                  \n",
            " conv2d_54 (Conv2D)             (None, 64, 64, 32)   9248        ['dropout_25[0][0]']             \n",
            "                                                                                                  \n",
            " conv2d_transpose_11 (Conv2DTra  (None, 128, 128, 16  2064       ['conv2d_54[0][0]']              \n",
            " nspose)                        )                                                                 \n",
            "                                                                                                  \n",
            " concatenate_11 (Concatenate)   (None, 128, 128, 32  0           ['conv2d_transpose_11[0][0]',    \n",
            "                                )                                 'conv2d_40[0][0]']              \n",
            "                                                                                                  \n",
            " conv2d_55 (Conv2D)             (None, 128, 128, 16  4624        ['concatenate_11[0][0]']         \n",
            "                                )                                                                 \n",
            "                                                                                                  \n",
            " dropout_26 (Dropout)           (None, 128, 128, 16  0           ['conv2d_55[0][0]']              \n",
            "                                )                                                                 \n",
            "                                                                                                  \n",
            " conv2d_56 (Conv2D)             (None, 128, 128, 16  2320        ['dropout_26[0][0]']             \n",
            "                                )                                                                 \n",
            "                                                                                                  \n",
            " conv2d_57 (Conv2D)             (None, 128, 128, 1)  17          ['conv2d_56[0][0]']              \n",
            "                                                                                                  \n",
            "==================================================================================================\n",
            "Total params: 1,941,105\n",
            "Trainable params: 1,941,105\n",
            "Non-trainable params: 0\n",
            "__________________________________________________________________________________________________\n"
          ]
        }
      ]
    },
    {
      "cell_type": "code",
      "source": [
        "TRAIN_PATH='./trainhere/'\n",
        "TEST_PATH='./testhere/'"
      ],
      "metadata": {
        "id": "sbxmm_-eLCcH"
      },
      "execution_count": 45,
      "outputs": []
    },
    {
      "cell_type": "code",
      "source": [
        "print('Resizing training images and masks')\n",
        "for n, id_ in tqdm(enumerate(train_ids), total=len(train_ids)):\n",
        "    path = TRAIN_PATH + id_\n",
        "    img = imread(path + '/images/' + id_ + '.png')[:,:,:IMAGE_CHANNEL]\n",
        "    img = resize(img, (IMAGE_HEIGHT, IMAGE_WIDTH), mode='constant', preserve_range=True)\n",
        "    X_train[n] = img  #Fill empty X_train with values from img\n",
        "    mask = np.zeros((IMAGE_HEIGHT, IMAGE_WIDTH, 1), dtype=bool)\n",
        "    for mask_file in next(os.walk(path + '/masks/'))[2]:\n",
        "        mask_ = imread(path + '/masks/' + mask_file)\n",
        "        mask_ = np.expand_dims(resize(mask_, (IMAGE_HEIGHT, IMAGE_WIDTH), mode='constant',\n",
        "                                      preserve_range=True), axis=-1)\n",
        "        mask = np.maximum(mask, mask_)\n",
        "\n",
        "    Y_train[n] = mask"
      ],
      "metadata": {
        "colab": {
          "base_uri": "https://localhost:8080/"
        },
        "id": "XQJjxNXkpei2",
        "outputId": "60fc91e0-859d-4650-eb4c-12a5ca08031e"
      },
      "execution_count": 21,
      "outputs": [
        {
          "output_type": "stream",
          "name": "stdout",
          "text": [
            "Resizing training images and masks\n"
          ]
        },
        {
          "output_type": "stream",
          "name": "stderr",
          "text": [
            "100%|██████████| 670/670 [04:52<00:00,  2.29it/s]\n"
          ]
        }
      ]
    },
    {
      "cell_type": "code",
      "source": [
        "X_test = np.zeros((len(test_ids), IMAGE_HEIGHT, IMAGE_WIDTH, IMAGE_CHANNEL), dtype=np.uint8)\n",
        "sizes_test = []\n",
        "print('Resizing test images')\n",
        "for n, id_ in tqdm(enumerate(test_ids), total=len(test_ids)):\n",
        "    path = TEST_PATH + id_\n",
        "    img = imread(path + '/images/' + id_ + '.png')[:,:,:IMAGE_CHANNEL]\n",
        "    sizes_test.append([img.shape[0], img.shape[1]])\n",
        "    img = resize(img, (IMAGE_HEIGHT, IMAGE_WIDTH), mode='constant', preserve_range=True)\n",
        "    X_test[n] = img\n",
        "\n",
        "print('Done!')"
      ],
      "metadata": {
        "colab": {
          "base_uri": "https://localhost:8080/"
        },
        "id": "wA0KdApCSjEV",
        "outputId": "54db5dd3-22a1-4c51-f6c8-bd023eb80893"
      },
      "execution_count": 22,
      "outputs": [
        {
          "output_type": "stream",
          "name": "stdout",
          "text": [
            "Resizing test images\n"
          ]
        },
        {
          "output_type": "stream",
          "name": "stderr",
          "text": [
            "100%|██████████| 65/65 [00:01<00:00, 37.64it/s]"
          ]
        },
        {
          "output_type": "stream",
          "name": "stdout",
          "text": [
            "Done!\n"
          ]
        },
        {
          "output_type": "stream",
          "name": "stderr",
          "text": [
            "\n"
          ]
        }
      ]
    },
    {
      "cell_type": "code",
      "source": [
        "import random"
      ],
      "metadata": {
        "id": "m9HfFriuTuuE"
      },
      "execution_count": 59,
      "outputs": []
    },
    {
      "cell_type": "code",
      "source": [
        "plt.subplot(1,2,1)\n",
        "image_x = random.randint(0, len(train_ids))\n",
        "imshow(X_train[image_x])\n",
        "plt.axis(\"off\")\n",
        "plt.subplot(1,2,2)\n",
        "imshow(np.squeeze(Y_train[image_x]))\n",
        "plt.axis(\"off\")\n",
        "plt.show()"
      ],
      "metadata": {
        "colab": {
          "base_uri": "https://localhost:8080/",
          "height": 312
        },
        "id": "Uzw-4A7hTm10",
        "outputId": "be622c85-d50a-4d7a-dbf9-e89425e2163e"
      },
      "execution_count": 60,
      "outputs": [
        {
          "output_type": "display_data",
          "data": {
            "text/plain": [
              "<Figure size 640x480 with 2 Axes>"
            ],
            "image/png": "[encoded data removed]"
          },
          "metadata": {}
        }
      ]
    },
    {
      "cell_type": "code",
      "source": [
        "#Modelcheckpoint\n",
        "checkpointer = tf.keras.callbacks.ModelCheckpoint('model_for_nuclei.h5', verbose=1, save_best_only=True)\n",
        "\n",
        "callbacks = [\n",
        "        tf.keras.callbacks.EarlyStopping(patience=7, monitor='val_loss'),\n",
        "        tf.keras.callbacks.TensorBoard(log_dir=\"logs/\", histogram_freq=1)]\n",
        "\n",
        "results = model.fit(X_train, Y_train, validation_split=0.1, batch_size=16, epochs=50, callbacks=callbacks)"
      ],
      "metadata": {
        "id": "ycrZQUH5Y3vt",
        "colab": {
          "base_uri": "https://localhost:8080/"
        },
        "outputId": "1e8a6d79-1131-4092-84ae-c9e301fe76c3"
      },
      "execution_count": 62,
      "outputs": [
        {
          "output_type": "stream",
          "name": "stdout",
          "text": [
            "Epoch 1/50\n",
            "38/38 [==============================] - 7s 177ms/step - loss: 0.1425 - my_iou_metric: 0.4264 - val_loss: 0.1422 - val_my_iou_metric: 0.4534\n",
            "Epoch 2/50\n",
            "38/38 [==============================] - 6s 155ms/step - loss: 0.1304 - my_iou_metric: 0.4457 - val_loss: 0.1155 - val_my_iou_metric: 0.4520\n",
            "Epoch 3/50\n",
            "38/38 [==============================] - 7s 182ms/step - loss: 0.1190 - my_iou_metric: 0.4691 - val_loss: 0.1071 - val_my_iou_metric: 0.4357\n",
            "Epoch 4/50\n",
            "38/38 [==============================] - 6s 149ms/step - loss: 0.1189 - my_iou_metric: 0.4690 - val_loss: 0.1102 - val_my_iou_metric: 0.4542\n",
            "Epoch 5/50\n",
            "38/38 [==============================] - 7s 182ms/step - loss: 0.1109 - my_iou_metric: 0.4881 - val_loss: 0.1025 - val_my_iou_metric: 0.4732\n",
            "Epoch 6/50\n",
            "38/38 [==============================] - 6s 156ms/step - loss: 0.1125 - my_iou_metric: 0.4871 - val_loss: 0.0961 - val_my_iou_metric: 0.5049\n",
            "Epoch 7/50\n",
            "38/38 [==============================] - 7s 176ms/step - loss: 0.1075 - my_iou_metric: 0.4997 - val_loss: 0.0981 - val_my_iou_metric: 0.4877\n",
            "Epoch 8/50\n",
            "38/38 [==============================] - 6s 165ms/step - loss: 0.1033 - my_iou_metric: 0.5031 - val_loss: 0.1008 - val_my_iou_metric: 0.5231\n",
            "Epoch 9/50\n",
            "38/38 [==============================] - 6s 170ms/step - loss: 0.1070 - my_iou_metric: 0.5015 - val_loss: 0.1032 - val_my_iou_metric: 0.4723\n",
            "Epoch 10/50\n",
            "38/38 [==============================] - 6s 163ms/step - loss: 0.1070 - my_iou_metric: 0.5016 - val_loss: 0.0975 - val_my_iou_metric: 0.4566\n",
            "Epoch 11/50\n",
            "38/38 [==============================] - 6s 163ms/step - loss: 0.1009 - my_iou_metric: 0.5089 - val_loss: 0.0997 - val_my_iou_metric: 0.4953\n",
            "Epoch 12/50\n",
            "38/38 [==============================] - 7s 185ms/step - loss: 0.0956 - my_iou_metric: 0.5223 - val_loss: 0.0970 - val_my_iou_metric: 0.5208\n",
            "Epoch 13/50\n",
            "38/38 [==============================] - 6s 158ms/step - loss: 0.0939 - my_iou_metric: 0.5278 - val_loss: 0.0940 - val_my_iou_metric: 0.5151\n",
            "Epoch 14/50\n",
            "38/38 [==============================] - 7s 195ms/step - loss: 0.0932 - my_iou_metric: 0.5303 - val_loss: 0.0929 - val_my_iou_metric: 0.5003\n",
            "Epoch 15/50\n",
            "38/38 [==============================] - 6s 147ms/step - loss: 0.0932 - my_iou_metric: 0.5304 - val_loss: 0.0885 - val_my_iou_metric: 0.5000\n",
            "Epoch 16/50\n",
            "38/38 [==============================] - 7s 183ms/step - loss: 0.0924 - my_iou_metric: 0.5305 - val_loss: 0.1002 - val_my_iou_metric: 0.4897\n",
            "Epoch 17/50\n",
            "38/38 [==============================] - 6s 154ms/step - loss: 0.0903 - my_iou_metric: 0.5368 - val_loss: 0.0921 - val_my_iou_metric: 0.5465\n",
            "Epoch 18/50\n",
            "38/38 [==============================] - 7s 182ms/step - loss: 0.0907 - my_iou_metric: 0.5355 - val_loss: 0.0998 - val_my_iou_metric: 0.5344\n",
            "Epoch 19/50\n",
            "38/38 [==============================] - 6s 157ms/step - loss: 0.0886 - my_iou_metric: 0.5460 - val_loss: 0.0840 - val_my_iou_metric: 0.5780\n",
            "Epoch 20/50\n",
            "38/38 [==============================] - 6s 169ms/step - loss: 0.0890 - my_iou_metric: 0.5426 - val_loss: 0.0922 - val_my_iou_metric: 0.5410\n",
            "Epoch 21/50\n",
            "38/38 [==============================] - 7s 173ms/step - loss: 0.0869 - my_iou_metric: 0.5506 - val_loss: 0.0845 - val_my_iou_metric: 0.5617\n",
            "Epoch 22/50\n",
            "38/38 [==============================] - 6s 161ms/step - loss: 0.0855 - my_iou_metric: 0.5578 - val_loss: 0.0879 - val_my_iou_metric: 0.5586\n",
            "Epoch 23/50\n",
            "38/38 [==============================] - 7s 179ms/step - loss: 0.0858 - my_iou_metric: 0.5570 - val_loss: 0.0881 - val_my_iou_metric: 0.5510\n",
            "Epoch 24/50\n",
            "38/38 [==============================] - 6s 154ms/step - loss: 0.0851 - my_iou_metric: 0.5487 - val_loss: 0.0854 - val_my_iou_metric: 0.5384\n",
            "Epoch 25/50\n",
            "38/38 [==============================] - 7s 194ms/step - loss: 0.0837 - my_iou_metric: 0.5571 - val_loss: 0.0987 - val_my_iou_metric: 0.4988\n",
            "Epoch 26/50\n",
            "38/38 [==============================] - 6s 146ms/step - loss: 0.0819 - my_iou_metric: 0.5556 - val_loss: 0.0911 - val_my_iou_metric: 0.5827\n"
          ]
        }
      ]
    },
    {
      "cell_type": "code",
      "source": [
        "idx = random.randint(0, len(X_train))\n",
        "\n",
        "\n",
        "preds_train = model.predict(X_train[:int(X_train.shape[0]*0.9)], verbose=1)\n",
        "preds_val = model.predict(X_train[int(X_train.shape[0]*0.9):], verbose=1)\n",
        "preds_test = model.predict(X_test, verbose=1)\n",
        "\n",
        "\n",
        "preds_train_t = (preds_train > 0.5).astype(np.uint8)\n",
        "preds_val_t = (preds_val > 0.5).astype(np.uint8)\n",
        "preds_test_t = (preds_test > 0.5).astype(np.uint8)"
      ],
      "metadata": {
        "colab": {
          "base_uri": "https://localhost:8080/"
        },
        "id": "FfGTCDVTbXn-",
        "outputId": "0f6cb25e-77b0-4c16-e50b-029c7fb81ec5"
      },
      "execution_count": 67,
      "outputs": [
        {
          "output_type": "stream",
          "name": "stdout",
          "text": [
            "19/19 [==============================] - 1s 20ms/step\n",
            "3/3 [==============================] - 0s 19ms/step\n",
            "3/3 [==============================] - 0s 12ms/step\n"
          ]
        }
      ]
    },
    {
      "cell_type": "code",
      "source": [
        "ix = random.randint(0, len(preds_train_t))\n",
        "plt.subplot(1,3,1)\n",
        "imshow(X_train[ix])\n",
        "plt.axis(\"off\")\n",
        "plt.subplot(1,3,2)\n",
        "imshow(np.squeeze(Y_train[ix]))\n",
        "plt.axis(\"off\")\n",
        "plt.subplot(1,3,3)\n",
        "plt.axis(\"off\")\n",
        "imshow(np.squeeze(preds_train_t[ix]))\n",
        "plt.axis(\"off\")\n",
        "plt.show()"
      ],
      "metadata": {
        "colab": {
          "base_uri": "https://localhost:8080/",
          "height": 274
        },
        "id": "7_O2ZjoxdQU8",
        "outputId": "0060aee4-4020-46ab-85d1-571fdb242894"
      },
      "execution_count": 68,
      "outputs": [
        {
          "output_type": "stream",
          "name": "stderr",
          "text": [
            "/usr/local/lib/python3.10/dist-packages/skimage/io/_plugins/matplotlib_plugin.py:150: UserWarning: Low image data range; displaying image with stretched contrast.\n",
            "  lo, hi, cmap = _get_display_range(image)\n"
          ]
        },
        {
          "output_type": "display_data",
          "data": {
            "text/plain": [
              "<Figure size 640x480 with 4 Axes>"
            ],
            "image/png": "[encoded data removed]"
          },
          "metadata": {}
        }
      ]
    },
    {
      "cell_type": "code",
      "source": [
        "ix = random.randint(0, len(preds_test_t))\n",
        "plt.subplot(1,3,1)\n",
        "imshow(X_test[ix])\n",
        "plt.axis(\"off\")\n",
        "plt.subplot(1,3,2)\n",
        "plt.axis(\"off\")\n",
        "imshow(np.squeeze(preds_test_t[ix]))\n",
        "plt.axis(\"off\")\n",
        "plt.show()"
      ],
      "metadata": {
        "colab": {
          "base_uri": "https://localhost:8080/",
          "height": 209
        },
        "id": "87KhSP8DeFuG",
        "outputId": "628b6688-94ff-43af-f595-fa89427d6c89"
      },
      "execution_count": 69,
      "outputs": [
        {
          "output_type": "display_data",
          "data": {
            "text/plain": [
              "<Figure size 640x480 with 3 Axes>"
            ],
            "image/png": "[encoded data removed]"
          },
          "metadata": {}
        }
      ]
    }
  ]
}